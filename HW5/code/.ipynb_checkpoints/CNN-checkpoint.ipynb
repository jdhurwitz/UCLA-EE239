{
 "cells": [
  {
   "cell_type": "markdown",
   "metadata": {},
   "source": [
    "# Convolutional neural networks\n",
    "\n",
    "In this notebook, we'll put together our convolutional layers to implement a 3-layer CNN.  Then, we'll ask you to implement a CNN that can achieve > 65% validation error on CIFAR-10.\n",
    "\n",
    "CS231n has built a solid API for building these modular frameworks and training them, and we will use their very well implemented framework as opposed to \"reinventing the wheel.\"  This includes using their Solver, various utility functions, their layer structure, and their implementation of fast CNN layers.  This also includes nndl.fc_net, nndl.layers, and nndl.layer_utils.  As in prior assignments, we thank Serena Yeung & Justin Johnson for permission to use code written for the CS 231n class (cs231n.stanford.edu).  \n",
    "\n",
    "If you have not completed the Spatial BatchNorm Notebook, please see the following description from that notebook:\n",
    "\n",
    "Please copy and paste your prior implemented code from HW #4 to start this assignment.  If you did not correctly implement the layers in HW #4, you may collaborate with a classmate to use their layer implementations from HW #4.  You may also visit TA or Prof OH to correct your implementation.  \n",
    "\n",
    "You'll want to copy and paste from HW #4:\n",
    "    - layers.py for your FC network layers, as well as batchnorm and dropout.\n",
    "    - layer_utils.py for your combined FC network layers.\n",
    "    - optim.py for your optimizers.\n",
    "\n",
    "Be sure to place these in the `nndl/` directory so they're imported correctly.  Note, as announced in class, we will not be releasing our solutions."
   ]
  },
  {
   "cell_type": "code",
   "execution_count": 20,
   "metadata": {},
   "outputs": [
    {
     "name": "stdout",
     "output_type": "stream",
     "text": [
      "The autoreload extension is already loaded. To reload it, use:\n",
      "  %reload_ext autoreload\n"
     ]
    }
   ],
   "source": [
    "# As usual, a bit of setup\n",
    "\n",
    "import numpy as np\n",
    "import matplotlib.pyplot as plt\n",
    "from nndl.cnn import *\n",
    "from cs231n.data_utils import get_CIFAR10_data\n",
    "from cs231n.gradient_check import eval_numerical_gradient_array, eval_numerical_gradient\n",
    "from nndl.layers import *\n",
    "from nndl.conv_layers import *\n",
    "from cs231n.fast_layers import *\n",
    "from cs231n.solver import Solver\n",
    "\n",
    "%matplotlib inline\n",
    "plt.rcParams['figure.figsize'] = (10.0, 8.0) # set default size of plots\n",
    "plt.rcParams['image.interpolation'] = 'nearest'\n",
    "plt.rcParams['image.cmap'] = 'gray'\n",
    "\n",
    "# for auto-reloading external modules\n",
    "# see http://stackoverflow.com/questions/1907993/autoreload-of-modules-in-ipython\n",
    "%load_ext autoreload\n",
    "%autoreload 2\n",
    "\n",
    "def rel_error(x, y):\n",
    "  \"\"\" returns relative error \"\"\"\n",
    "  return np.max(np.abs(x - y) / (np.maximum(1e-8, np.abs(x) + np.abs(y))))"
   ]
  },
  {
   "cell_type": "code",
   "execution_count": 21,
   "metadata": {},
   "outputs": [
    {
     "name": "stdout",
     "output_type": "stream",
     "text": [
      "X_train: (49000, 3, 32, 32) \n",
      "y_train: (49000,) \n",
      "X_val: (1000, 3, 32, 32) \n",
      "y_val: (1000,) \n",
      "X_test: (1000, 3, 32, 32) \n",
      "y_test: (1000,) \n"
     ]
    }
   ],
   "source": [
    "# Load the (preprocessed) CIFAR10 data.\n",
    "\n",
    "data = get_CIFAR10_data()\n",
    "for k in data.keys():\n",
    "  print('{}: {} '.format(k, data[k].shape))"
   ]
  },
  {
   "cell_type": "markdown",
   "metadata": {},
   "source": [
    "## Three layer CNN\n",
    "\n",
    "In this notebook, you will implement a three layer CNN.  The `ThreeLayerConvNet` class is in `nndl/cnn.py`.  You'll need to modify that code for this section, including the initialization, as well as the calculation of the loss and gradients.  You should be able to use the building blocks you have either earlier coded or that we have provided.  Be sure to use the fast layers.\n",
    "\n",
    "The architecture of this CNN will be:\n",
    "\n",
    "conv - relu - 2x2 max pool - affine - relu - affine - softmax\n",
    "\n",
    "We won't use batchnorm yet.  You've also done enough of these to know how to debug; use the cells below.\n",
    "\n",
    "Note: As we are implementing several layers CNN networks. The gradient error can be expected for the `eval_numerical_gradient()` function. If your `W1 max relative error` and `W2 max relative error` are around or below 0.01, they should be acceptable. Other errors should be less than 1e-5. "
   ]
  },
  {
   "cell_type": "code",
   "execution_count": 47,
   "metadata": {
    "scrolled": true
   },
   "outputs": [
    {
     "name": "stdout",
     "output_type": "stream",
     "text": [
      "W1 max relative error: 0.00019674547724440783\n",
      "W2 max relative error: 0.004744448317317754\n",
      "W3 max relative error: 1.8620765650509693e-05\n",
      "b1 max relative error: 2.843206495737342e-05\n",
      "b2 max relative error: 4.7446582991418503e-07\n",
      "b3 max relative error: 5.011805049117704e-07\n"
     ]
    }
   ],
   "source": [
    "num_inputs = 2\n",
    "input_dim = (3, 16, 16)\n",
    "reg = 0.0\n",
    "num_classes = 10\n",
    "X = np.random.randn(num_inputs, *input_dim)\n",
    "y = np.random.randint(num_classes, size=num_inputs)\n",
    "\n",
    "model = ThreeLayerConvNet(num_filters=3, filter_size=3,\n",
    "                          input_dim=input_dim, hidden_dim=7,\n",
    "                          dtype=np.float64)\n",
    "loss, grads = model.loss(X, y)\n",
    "for param_name in sorted(grads):\n",
    "    f = lambda _: model.loss(X, y)[0]\n",
    "    param_grad_num = eval_numerical_gradient(f, model.params[param_name], verbose=False, h=1e-6)\n",
    "    e = rel_error(param_grad_num, grads[param_name])\n",
    "    print('{} max relative error: {}'.format(param_name, rel_error(param_grad_num, grads[param_name])))"
   ]
  },
  {
   "cell_type": "markdown",
   "metadata": {},
   "source": [
    "### Overfit small dataset\n",
    "\n",
    "To check your CNN implementation, let's overfit a small dataset."
   ]
  },
  {
   "cell_type": "code",
   "execution_count": 53,
   "metadata": {},
   "outputs": [
    {
     "name": "stdout",
     "output_type": "stream",
     "text": [
      "(Iteration 1 / 20) loss: 2.320810\n",
      "(Epoch 0 / 10) train acc: 0.220000; val_acc: 0.144000\n",
      "(Iteration 2 / 20) loss: 5.053294\n",
      "(Epoch 1 / 10) train acc: 0.280000; val_acc: 0.092000\n",
      "(Iteration 3 / 20) loss: 2.484876\n",
      "(Iteration 4 / 20) loss: 2.893186\n",
      "(Epoch 2 / 10) train acc: 0.410000; val_acc: 0.172000\n",
      "(Iteration 5 / 20) loss: 2.465218\n",
      "(Iteration 6 / 20) loss: 2.405353\n",
      "(Epoch 3 / 10) train acc: 0.270000; val_acc: 0.185000\n",
      "(Iteration 7 / 20) loss: 1.683409\n",
      "(Iteration 8 / 20) loss: 1.830656\n",
      "(Epoch 4 / 10) train acc: 0.490000; val_acc: 0.218000\n",
      "(Iteration 9 / 20) loss: 1.553348\n",
      "(Iteration 10 / 20) loss: 1.272357\n",
      "(Epoch 5 / 10) train acc: 0.610000; val_acc: 0.188000\n",
      "(Iteration 11 / 20) loss: 1.196532\n",
      "(Iteration 12 / 20) loss: 1.131260\n",
      "(Epoch 6 / 10) train acc: 0.570000; val_acc: 0.151000\n",
      "(Iteration 13 / 20) loss: 1.464487\n",
      "(Iteration 14 / 20) loss: 1.074046\n",
      "(Epoch 7 / 10) train acc: 0.770000; val_acc: 0.231000\n",
      "(Iteration 15 / 20) loss: 0.881778\n",
      "(Iteration 16 / 20) loss: 0.970694\n",
      "(Epoch 8 / 10) train acc: 0.750000; val_acc: 0.240000\n",
      "(Iteration 17 / 20) loss: 0.812045\n",
      "(Iteration 18 / 20) loss: 0.596417\n",
      "(Epoch 9 / 10) train acc: 0.860000; val_acc: 0.232000\n",
      "(Iteration 19 / 20) loss: 0.545109\n",
      "(Iteration 20 / 20) loss: 0.497141\n",
      "(Epoch 10 / 10) train acc: 0.920000; val_acc: 0.202000\n"
     ]
    }
   ],
   "source": [
    "num_train = 100\n",
    "small_data = {\n",
    "  'X_train': data['X_train'][:num_train],\n",
    "  'y_train': data['y_train'][:num_train],\n",
    "  'X_val': data['X_val'],\n",
    "  'y_val': data['y_val'],\n",
    "}\n",
    "\n",
    "model = ThreeLayerConvNet(weight_scale=1e-2)\n",
    "\n",
    "solver = Solver(model, small_data,\n",
    "                num_epochs=10, batch_size=50,\n",
    "                update_rule='adam',\n",
    "                optim_config={\n",
    "                  'learning_rate': 1e-3,\n",
    "                },\n",
    "                verbose=True, print_every=1)\n",
    "solver.train()"
   ]
  },
  {
   "cell_type": "code",
   "execution_count": 54,
   "metadata": {},
   "outputs": [
    {
     "data": {
      "image/png": "[encoded data removed]",
      "text/plain": [
       "<matplotlib.figure.Figure at 0x180df27828>"
      ]
     },
     "metadata": {},
     "output_type": "display_data"
    }
   ],
   "source": [
    "plt.subplot(2, 1, 1)\n",
    "plt.plot(solver.loss_history, 'o')\n",
    "plt.xlabel('iteration')\n",
    "plt.ylabel('loss')\n",
    "\n",
    "plt.subplot(2, 1, 2)\n",
    "plt.plot(solver.train_acc_history, '-o')\n",
    "plt.plot(solver.val_acc_history, '-o')\n",
    "plt.legend(['train', 'val'], loc='upper left')\n",
    "plt.xlabel('epoch')\n",
    "plt.ylabel('accuracy')\n",
    "plt.show()"
   ]
  },
  {
   "cell_type": "markdown",
   "metadata": {},
   "source": [
    "## Train the network\n",
    "\n",
    "Now we train the 3 layer CNN on CIFAR-10 and assess its accuracy."
   ]
  },
  {
   "cell_type": "code",
   "execution_count": 55,
   "metadata": {
    "scrolled": false
   },
   "outputs": [
    {
     "name": "stdout",
     "output_type": "stream",
     "text": [
      "(Iteration 1 / 980) loss: 2.304772\n",
      "(Epoch 0 / 1) train acc: 0.106000; val_acc: 0.105000\n",
      "(Iteration 21 / 980) loss: 2.180104\n",
      "(Iteration 41 / 980) loss: 2.025886\n",
      "(Iteration 61 / 980) loss: 1.910054\n",
      "(Iteration 81 / 980) loss: 2.039487\n",
      "(Iteration 101 / 980) loss: 1.846337\n",
      "(Iteration 121 / 980) loss: 1.544768\n",
      "(Iteration 141 / 980) loss: 1.884846\n",
      "(Iteration 161 / 980) loss: 1.796485\n",
      "(Iteration 181 / 980) loss: 1.995384\n",
      "(Iteration 201 / 980) loss: 1.834419\n",
      "(Iteration 221 / 980) loss: 1.675321\n",
      "(Iteration 241 / 980) loss: 1.658712\n",
      "(Iteration 261 / 980) loss: 1.826970\n",
      "(Iteration 281 / 980) loss: 1.469964\n",
      "(Iteration 301 / 980) loss: 1.619737\n",
      "(Iteration 321 / 980) loss: 1.546284\n",
      "(Iteration 341 / 980) loss: 1.931794\n",
      "(Iteration 361 / 980) loss: 1.700141\n",
      "(Iteration 381 / 980) loss: 1.602551\n",
      "(Iteration 401 / 980) loss: 1.728778\n",
      "(Iteration 421 / 980) loss: 1.531434\n",
      "(Iteration 441 / 980) loss: 2.094193\n",
      "(Iteration 461 / 980) loss: 1.650501\n",
      "(Iteration 481 / 980) loss: 1.591249\n",
      "(Iteration 501 / 980) loss: 1.606730\n",
      "(Iteration 521 / 980) loss: 1.779742\n",
      "(Iteration 541 / 980) loss: 1.576076\n",
      "(Iteration 561 / 980) loss: 1.642811\n",
      "(Iteration 581 / 980) loss: 1.954226\n",
      "(Iteration 601 / 980) loss: 2.204238\n",
      "(Iteration 621 / 980) loss: 1.688987\n",
      "(Iteration 641 / 980) loss: 1.315088\n",
      "(Iteration 661 / 980) loss: 1.640437\n",
      "(Iteration 681 / 980) loss: 1.296617\n",
      "(Iteration 701 / 980) loss: 1.714731\n",
      "(Iteration 721 / 980) loss: 1.422922\n",
      "(Iteration 741 / 980) loss: 1.482807\n",
      "(Iteration 761 / 980) loss: 1.459128\n",
      "(Iteration 781 / 980) loss: 1.725105\n",
      "(Iteration 801 / 980) loss: 1.607228\n",
      "(Iteration 821 / 980) loss: 1.490936\n",
      "(Iteration 841 / 980) loss: 1.380101\n",
      "(Iteration 861 / 980) loss: 1.653268\n",
      "(Iteration 881 / 980) loss: 1.398453\n",
      "(Iteration 901 / 980) loss: 1.551622\n",
      "(Iteration 921 / 980) loss: 1.545523\n",
      "(Iteration 941 / 980) loss: 1.476686\n",
      "(Iteration 961 / 980) loss: 1.657998\n",
      "(Epoch 1 / 1) train acc: 0.492000; val_acc: 0.498000\n"
     ]
    }
   ],
   "source": [
    "model = ThreeLayerConvNet(weight_scale=0.001, hidden_dim=500, reg=0.001)\n",
    "\n",
    "solver = Solver(model, data,\n",
    "                num_epochs=1, batch_size=50,\n",
    "                update_rule='adam',\n",
    "                optim_config={\n",
    "                  'learning_rate': 1e-3,\n",
    "                },\n",
    "                verbose=True, print_every=20)\n",
    "solver.train()"
   ]
  },
  {
   "cell_type": "markdown",
   "metadata": {},
   "source": [
    "# Get > 65% validation accuracy on CIFAR-10.\n",
    "\n",
    "In the last part of the assignment, we'll now ask you to train a CNN to get better than 65% validation accuracy on CIFAR-10.\n",
    "\n",
    "### Things you should try:\n",
    "- Filter size: Above we used 7x7; but VGGNet and onwards showed stacks of 3x3 filters are good.  \n",
    "- Number of filters: Above we used 32 filters. Do more or fewer do better?\n",
    "- Batch normalization: Try adding spatial batch normalization after convolution layers and vanilla batch normalization aafter affine layers. Do your networks train faster?\n",
    "- Network architecture: Can a deeper CNN do better?  Consider these architectures:\n",
    "    - [conv-relu-pool]xN - conv - relu - [affine]xM - [softmax or SVM]\n",
    "    - [conv-relu-pool]XN - [affine]XM - [softmax or SVM]\n",
    "    - [conv-relu-conv-relu-pool]xN - [affine]xM - [softmax or SVM]\n",
    "\n",
    "### Tips for training\n",
    "For each network architecture that you try, you should tune the learning rate and regularization strength. When doing this there are a couple important things to keep in mind:\n",
    "\n",
    "- If the parameters are working well, you should see improvement within a few hundred iterations\n",
    "- Remember the coarse-to-fine approach for hyperparameter tuning: start by testing a large range of hyperparameters for just a few training iterations to find the combinations of parameters that are working at all.\n",
    "- Once you have found some sets of parameters that seem to work, search more finely around these parameters. You may need to train for more epochs."
   ]
  },
  {
   "cell_type": "code",
   "execution_count": 26,
   "metadata": {
    "scrolled": false
   },
   "outputs": [
    {
     "name": "stdout",
     "output_type": "stream",
     "text": [
      "(Iteration 1 / 1470) loss: 2.305346\n",
      "(Epoch 0 / 6) train acc: 0.204000; val_acc: 0.189000\n",
      "(Iteration 21 / 1470) loss: 1.773018\n",
      "(Iteration 41 / 1470) loss: 1.572854\n",
      "(Iteration 61 / 1470) loss: 1.567728\n",
      "(Iteration 81 / 1470) loss: 1.503163\n",
      "(Iteration 101 / 1470) loss: 1.515456\n",
      "(Iteration 121 / 1470) loss: 1.564457\n",
      "(Iteration 141 / 1470) loss: 1.342827\n",
      "(Iteration 161 / 1470) loss: 1.397185\n",
      "(Iteration 181 / 1470) loss: 1.440768\n",
      "(Iteration 201 / 1470) loss: 1.514407\n",
      "(Iteration 221 / 1470) loss: 1.338996\n",
      "(Iteration 241 / 1470) loss: 1.228555\n",
      "(Epoch 1 / 6) train acc: 0.612000; val_acc: 0.593000\n",
      "(Iteration 261 / 1470) loss: 1.316691\n",
      "(Iteration 281 / 1470) loss: 1.392568\n",
      "(Iteration 301 / 1470) loss: 1.354490\n",
      "(Iteration 321 / 1470) loss: 1.405908\n",
      "(Iteration 341 / 1470) loss: 1.154451\n",
      "(Iteration 361 / 1470) loss: 1.155922\n",
      "(Iteration 381 / 1470) loss: 1.171903\n",
      "(Iteration 401 / 1470) loss: 1.203219\n",
      "(Iteration 421 / 1470) loss: 1.260604\n",
      "(Iteration 441 / 1470) loss: 1.337409\n",
      "(Iteration 461 / 1470) loss: 1.304432\n",
      "(Iteration 481 / 1470) loss: 1.186095\n",
      "(Epoch 2 / 6) train acc: 0.634000; val_acc: 0.619000\n",
      "(Iteration 501 / 1470) loss: 1.124975\n",
      "(Iteration 521 / 1470) loss: 1.271078\n",
      "(Iteration 541 / 1470) loss: 1.217678\n",
      "(Iteration 561 / 1470) loss: 1.207451\n",
      "(Iteration 581 / 1470) loss: 1.086615\n",
      "(Iteration 601 / 1470) loss: 1.217820\n",
      "(Iteration 621 / 1470) loss: 1.186121\n",
      "(Iteration 641 / 1470) loss: 1.107597\n",
      "(Iteration 661 / 1470) loss: 1.180826\n",
      "(Iteration 681 / 1470) loss: 1.181886\n",
      "(Iteration 701 / 1470) loss: 1.325636\n",
      "(Iteration 721 / 1470) loss: 1.179445\n",
      "(Epoch 3 / 6) train acc: 0.700000; val_acc: 0.623000\n",
      "(Iteration 741 / 1470) loss: 1.208147\n",
      "(Iteration 761 / 1470) loss: 1.218818\n",
      "(Iteration 781 / 1470) loss: 1.085747\n",
      "(Iteration 801 / 1470) loss: 1.214951\n",
      "(Iteration 821 / 1470) loss: 1.133458\n",
      "(Iteration 841 / 1470) loss: 1.241980\n",
      "(Iteration 861 / 1470) loss: 1.229727\n",
      "(Iteration 881 / 1470) loss: 1.134834\n",
      "(Iteration 901 / 1470) loss: 1.191719\n",
      "(Iteration 921 / 1470) loss: 1.059599\n",
      "(Iteration 941 / 1470) loss: 1.126035\n",
      "(Iteration 961 / 1470) loss: 1.048853\n",
      "(Epoch 4 / 6) train acc: 0.750000; val_acc: 0.637000\n",
      "(Iteration 981 / 1470) loss: 0.973456\n",
      "(Iteration 1001 / 1470) loss: 1.047568\n",
      "(Iteration 1021 / 1470) loss: 1.211622\n",
      "(Iteration 1041 / 1470) loss: 1.079860\n",
      "(Iteration 1061 / 1470) loss: 1.028886\n",
      "(Iteration 1081 / 1470) loss: 1.262685\n",
      "(Iteration 1101 / 1470) loss: 1.110305\n",
      "(Iteration 1121 / 1470) loss: 1.121391\n",
      "(Iteration 1141 / 1470) loss: 1.040646\n",
      "(Iteration 1161 / 1470) loss: 1.122613\n",
      "(Iteration 1181 / 1470) loss: 1.177398\n",
      "(Iteration 1201 / 1470) loss: 1.229780\n",
      "(Iteration 1221 / 1470) loss: 1.093318\n",
      "(Epoch 5 / 6) train acc: 0.743000; val_acc: 0.631000\n",
      "(Iteration 1241 / 1470) loss: 1.169390\n",
      "(Iteration 1261 / 1470) loss: 1.092743\n",
      "(Iteration 1281 / 1470) loss: 1.109185\n",
      "(Iteration 1301 / 1470) loss: 1.084981\n",
      "(Iteration 1321 / 1470) loss: 1.042491\n",
      "(Iteration 1341 / 1470) loss: 1.116905\n",
      "(Iteration 1361 / 1470) loss: 1.021729\n",
      "(Iteration 1381 / 1470) loss: 1.092293\n",
      "(Iteration 1401 / 1470) loss: 0.917991\n",
      "(Iteration 1421 / 1470) loss: 1.115744\n",
      "(Iteration 1441 / 1470) loss: 1.044902\n",
      "(Iteration 1461 / 1470) loss: 1.020942\n",
      "(Epoch 6 / 6) train acc: 0.775000; val_acc: 0.656000\n"
     ]
    }
   ],
   "source": [
    "# ================================================================ #\n",
    "# YOUR CODE HERE:\n",
    "#   Implement a CNN to achieve greater than 65% validation accuracy\n",
    "#   on CIFAR-10.\n",
    "# ================================================================ #\n",
    "\n",
    "model = ThreeLayerConvNet(num_filters=64, filter_size=3, \n",
    "                          weight_scale=0.001, hidden_dim=500, \n",
    "                          reg=0.001, use_batchnorm=True)\n",
    "\n",
    "solver = Solver(model, data,\n",
    "                num_epochs=6, batch_size=200,\n",
    "                update_rule='adam',\n",
    "                optim_config={\n",
    "                  'learning_rate': 1e-3,\n",
    "                }, \n",
    "#                lr_decay = 0.9,\n",
    "                verbose=True, print_every=20)\n",
    "solver.train()\n",
    "# ================================================================ #\n",
    "# END YOUR CODE HERE\n",
    "# ================================================================ #\n"
   ]
  },
  {
   "cell_type": "markdown",
   "metadata": {
    "collapsed": true
   },
   "source": [
    "<b>The following configuration yielded 65.6% validation accuracy: </b> <br>\n",
    "64 filters <br>\n",
    "3x3 filters <br>\n",
    "0.001 weight scale <br>\n",
    "0.001 regularization <br>\n",
    "500 hidden dim <br>\n",
    "Using batch normalization <br>\n",
    "\n",
    "<b> For the solver: </b> <br>\n",
    "6 epochs <br>\n",
    "200 batch size <br>\n",
    "1e-3 learning rate "
   ]
  },
  {
   "cell_type": "code",
   "execution_count": null,
   "metadata": {
    "collapsed": true
   },
   "outputs": [],
   "source": []
  }
 ],
 "metadata": {
  "kernelspec": {
   "display_name": "Python 3",
   "language": "python",
   "name": "python3"
  },
  "language_info": {
   "codemirror_mode": {
    "name": "ipython",
    "version": 3
   },
   "file_extension": ".py",
   "mimetype": "text/x-python",
   "name": "python",
   "nbconvert_exporter": "python",
   "pygments_lexer": "ipython3",
   "version": "3.6.3"
  }
 },
 "nbformat": 4,
 "nbformat_minor": 2
}
