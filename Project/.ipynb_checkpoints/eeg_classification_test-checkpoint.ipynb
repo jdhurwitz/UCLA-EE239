{
 "cells": [
  {
   "cell_type": "code",
   "execution_count": 1,
   "metadata": {
    "collapsed": true
   },
   "outputs": [],
   "source": [
    "import numpy as np\n",
    "import h5py"
   ]
  },
  {
   "cell_type": "code",
   "execution_count": 12,
   "metadata": {},
   "outputs": [],
   "source": [
    "A01T = h5py.File(\"project_datasets/A01T_slice.mat\", \"r\")\n",
    "X = np.copy(A01T[\"image\"])\n",
    "y = np.copy(A01T[\"type\"])\n",
    "image = A01T['image']\n",
    "y = y[0,0:image.shape[0]:1]\n",
    "y = np.asarray(y, dtype=np.int32)\n"
   ]
  },
  {
   "cell_type": "code",
   "execution_count": 13,
   "metadata": {},
   "outputs": [
    {
     "name": "stdout",
     "output_type": "stream",
     "text": [
      "(288, 25, 313)\n",
      "(288,)\n"
     ]
    }
   ],
   "source": [
    "print(X.shape)\n",
    "print(y.shape)"
   ]
  },
  {
   "cell_type": "code",
   "execution_count": 14,
   "metadata": {},
   "outputs": [
    {
     "name": "stdout",
     "output_type": "stream",
     "text": [
      "[772 771 770 769 769 770 771 772 770 771 769 769 769 772 770 770 769 769\n",
      " 771 769 770 772 772 771 769 772 772 770 772 772 770 769 770 771 771 771\n",
      " 772 771 769 772 770 771 770 771 772 770 771 769 769 769 772 770 769 771\n",
      " 769 771 770 772 769 771 771 769 771 770 772 772 772 771 769 772 770 772\n",
      " 770 769 771 770 769 771 771 769 771 772 772 770 769 770 772 770 772 771\n",
      " 770 770 770 771 772 769 770 772 769 771 771 772 769 769 771 770 772 772\n",
      " 772 770 769 771 770 772 769 772 771 770 772 772 769 770 770 771 772 770\n",
      " 769 769 772 770 769 771 770 770 771 769 772 771 771 771 771 769 770 769\n",
      " 770 769 769 771 771 770 771 772 769 772 769 769 770 772 771 770 772 771\n",
      " 772 771 772 770 770 772 769 770 770 770 771 772 769 772 769 771 769 772\n",
      " 769 771 769 770 771 771 772 769 770 772 770 771 771 769 772 770 772 769\n",
      " 769 771 771 770 772 770 770 769 770 772 772 770 770 770 770 772 772 771\n",
      " 772 769 770 771 770 769 772 769 772 769 769 769 769 771 771 772 770 771\n",
      " 771 771 772 771 769 771 769 772 770 772 772 771 772 772 771 770 772 771\n",
      " 769 770 770 770 771 770 772 771 772 770 771 769 772 769 771 772 769 771\n",
      " 769 770 770 769 772 769 772 771 771 769 771 770 770 769 771 769 770 769]\n"
     ]
    }
   ],
   "source": [
    "print(y)"
   ]
  },
  {
   "cell_type": "code",
   "execution_count": null,
   "metadata": {
    "collapsed": true
   },
   "outputs": [],
   "source": []
  }
 ],
 "metadata": {
  "kernelspec": {
   "display_name": "Python 3",
   "language": "python",
   "name": "python3"
  },
  "language_info": {
   "codemirror_mode": {
    "name": "ipython",
    "version": 3
   },
   "file_extension": ".py",
   "mimetype": "text/x-python",
   "name": "python",
   "nbconvert_exporter": "python",
   "pygments_lexer": "ipython3",
   "version": "3.6.3"
  }
 },
 "nbformat": 4,
 "nbformat_minor": 2
}
