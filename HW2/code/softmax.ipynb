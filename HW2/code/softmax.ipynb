{
 "cells": [
  {
   "cell_type": "markdown",
   "metadata": {},
   "source": [
    "## This is the softmax workbook for ECE 239AS Assignment #2\n",
    "\n",
    "Please follow the notebook linearly to implement a softmax classifier.\n",
    "\n",
    "Please print out the workbook entirely when completed.\n",
    "\n",
    "We thank Serena Yeung & Justin Johnson for permission to use code written for the CS 231n class (cs231n.stanford.edu).  These are the functions in the cs231n folders and code in the jupyer notebook to preprocess and show the images.  The classifiers used are based off of code prepared for CS 231n as well.\n",
    "\n",
    "The goal of this workbook is to give you experience with training a softmax classifier."
   ]
  },
  {
   "cell_type": "code",
   "execution_count": 176,
   "metadata": {},
   "outputs": [
    {
     "name": "stdout",
     "output_type": "stream",
     "text": [
      "The autoreload extension is already loaded. To reload it, use:\n",
      "  %reload_ext autoreload\n"
     ]
    }
   ],
   "source": [
    "import random\n",
    "import numpy as np\n",
    "from cs231n.data_utils import load_CIFAR10\n",
    "import matplotlib.pyplot as plt\n",
    "import warnings\n",
    "warnings.filterwarnings('ignore')\n",
    "\n",
    "%matplotlib inline\n",
    "%load_ext autoreload\n",
    "%autoreload 2"
   ]
  },
  {
   "cell_type": "code",
   "execution_count": 177,
   "metadata": {
    "scrolled": true
   },
   "outputs": [
    {
     "name": "stdout",
     "output_type": "stream",
     "text": [
      "Train data shape:  (49000, 3073)\n",
      "Train labels shape:  (49000,)\n",
      "Validation data shape:  (1000, 3073)\n",
      "Validation labels shape:  (1000,)\n",
      "Test data shape:  (1000, 3073)\n",
      "Test labels shape:  (1000,)\n",
      "dev data shape:  (500, 3073)\n",
      "dev labels shape:  (500,)\n"
     ]
    }
   ],
   "source": [
    "def get_CIFAR10_data(num_training=49000, num_validation=1000, num_test=1000, num_dev=500):\n",
    "    \"\"\"\n",
    "    Load the CIFAR-10 dataset from disk and perform preprocessing to prepare\n",
    "    it for the linear classifier. These are the same steps as we used for the\n",
    "    SVM, but condensed to a single function.  \n",
    "    \"\"\"\n",
    "    # Load the raw CIFAR-10 data\n",
    "    # Set the path to the CIFAR-10 data\n",
    "    import os\n",
    "    cur_dir = os.getcwd()\n",
    "    cifar10_dir = cur_dir+'/cs231n/datasets/cifar-10-batches-py'\n",
    "    X_train, y_train, X_test, y_test = load_CIFAR10(cifar10_dir)    \n",
    "    \n",
    "    # subsample the data\n",
    "    mask = list(range(num_training, num_training + num_validation))\n",
    "    X_val = X_train[mask]\n",
    "    y_val = y_train[mask]\n",
    "    mask = list(range(num_training))\n",
    "    X_train = X_train[mask]\n",
    "    y_train = y_train[mask]\n",
    "    mask = list(range(num_test))\n",
    "    X_test = X_test[mask]\n",
    "    y_test = y_test[mask]\n",
    "    mask = np.random.choice(num_training, num_dev, replace=False)\n",
    "    X_dev = X_train[mask]\n",
    "    y_dev = y_train[mask]\n",
    "    \n",
    "    # Preprocessing: reshape the image data into rows\n",
    "    X_train = np.reshape(X_train, (X_train.shape[0], -1))\n",
    "    X_val = np.reshape(X_val, (X_val.shape[0], -1))\n",
    "    X_test = np.reshape(X_test, (X_test.shape[0], -1))\n",
    "    X_dev = np.reshape(X_dev, (X_dev.shape[0], -1))\n",
    "    \n",
    "    # Normalize the data: subtract the mean image\n",
    "    mean_image = np.mean(X_train, axis = 0)\n",
    "    X_train -= mean_image\n",
    "    X_val -= mean_image\n",
    "    X_test -= mean_image\n",
    "    X_dev -= mean_image\n",
    "    \n",
    "    # add bias dimension and transform into columns\n",
    "    X_train = np.hstack([X_train, np.ones((X_train.shape[0], 1))])\n",
    "    X_val = np.hstack([X_val, np.ones((X_val.shape[0], 1))])\n",
    "    X_test = np.hstack([X_test, np.ones((X_test.shape[0], 1))])\n",
    "    X_dev = np.hstack([X_dev, np.ones((X_dev.shape[0], 1))])\n",
    "    \n",
    "    return X_train, y_train, X_val, y_val, X_test, y_test, X_dev, y_dev\n",
    "\n",
    "\n",
    "# Invoke the above function to get our data.\n",
    "X_train, y_train, X_val, y_val, X_test, y_test, X_dev, y_dev = get_CIFAR10_data()\n",
    "print('Train data shape: ', X_train.shape)\n",
    "print('Train labels shape: ', y_train.shape)\n",
    "print('Validation data shape: ', X_val.shape)\n",
    "print('Validation labels shape: ', y_val.shape)\n",
    "print('Test data shape: ', X_test.shape)\n",
    "print('Test labels shape: ', y_test.shape)\n",
    "print('dev data shape: ', X_dev.shape)\n",
    "print('dev labels shape: ', y_dev.shape)"
   ]
  },
  {
   "cell_type": "markdown",
   "metadata": {},
   "source": [
    "## Training a softmax classifier.\n",
    "\n",
    "The following cells will take you through building a softmax classifier.  You will implement its loss function, then subsequently train it with gradient descent.  Finally, you will choose the learning rate of gradient descent to optimize its classification performance."
   ]
  },
  {
   "cell_type": "code",
   "execution_count": 178,
   "metadata": {},
   "outputs": [],
   "source": [
    "from nndl import Softmax"
   ]
  },
  {
   "cell_type": "code",
   "execution_count": 179,
   "metadata": {},
   "outputs": [],
   "source": [
    "# Declare an instance of the Softmax class.  \n",
    "# Weights are initialized to a random value.\n",
    "# Note, to keep people's first solutions consistent, we are going to use a random seed.\n",
    "\n",
    "np.random.seed(1)\n",
    "\n",
    "num_classes = len(np.unique(y_train))\n",
    "num_features = X_train.shape[1]\n",
    "\n",
    "softmax = Softmax(dims=[num_classes, num_features])"
   ]
  },
  {
   "cell_type": "markdown",
   "metadata": {},
   "source": [
    "#### Softmax loss"
   ]
  },
  {
   "cell_type": "code",
   "execution_count": 180,
   "metadata": {},
   "outputs": [],
   "source": [
    "## Implement the loss function of the softmax using a for loop over\n",
    "#  the number of examples\n",
    "\n",
    "loss = softmax.loss(X_train, y_train)"
   ]
  },
  {
   "cell_type": "code",
   "execution_count": 181,
   "metadata": {},
   "outputs": [
    {
     "name": "stdout",
     "output_type": "stream",
     "text": [
      "(49000, 3073)\n",
      "Loss:  2.3277607028\n"
     ]
    }
   ],
   "source": [
    "print(X_train.shape)\n",
    "print(\"Loss: \", loss)"
   ]
  },
  {
   "cell_type": "markdown",
   "metadata": {},
   "source": [
    "## Question: \n",
    "\n",
    "You'll notice the loss returned by the softmax is about 2.3 (if implemented correctly).  Why does this value make sense?"
   ]
  },
  {
   "cell_type": "markdown",
   "metadata": {},
   "source": [
    "## Answer:\n",
    "\n",
    "Without training, the softmax classifier was initialized with random weights. From initializaiton, it essentially acts as a random classifier. We expect a random clssifier to do slightly worse than 50% in terms of accuracy. Assuming that this classifier did slightly worse than 50%, 24500 or more training exmaples would be classified incorrectly. These would take on variable ranges depending on the degree of the misclassification. This error is then normalized by the number of training examples, so for each training example we incur a loss of about 2.32. This number is being inflated by improperly classified points at extreme distances (due to hinge loss penalty). It is not closer to 0 because a correct classification has no bonus, since it is max(0, hinge_penalty)."
   ]
  },
  {
   "cell_type": "markdown",
   "metadata": {},
   "source": [
    "#### Softmax gradient"
   ]
  },
  {
   "cell_type": "code",
   "execution_count": 182,
   "metadata": {
    "scrolled": false
   },
   "outputs": [
    {
     "name": "stdout",
     "output_type": "stream",
     "text": [
      "numerical: 0.684953 analytic: 0.684953, relative error: 5.867046e-09\n",
      "numerical: 1.251212 analytic: 1.251212, relative error: 2.058286e-08\n",
      "numerical: 1.225199 analytic: 1.225199, relative error: 1.059550e-08\n",
      "numerical: 3.011935 analytic: 3.011935, relative error: 6.940156e-09\n",
      "numerical: 0.903300 analytic: 0.903300, relative error: 4.877627e-08\n",
      "numerical: -0.221147 analytic: -0.221148, relative error: 2.190131e-07\n",
      "numerical: 1.124273 analytic: 1.124273, relative error: 3.960280e-08\n",
      "numerical: -1.214810 analytic: -1.214810, relative error: 2.342095e-10\n",
      "numerical: -1.754822 analytic: -1.754822, relative error: 7.381466e-09\n",
      "numerical: -3.909095 analytic: -3.909095, relative error: 9.820295e-09\n"
     ]
    }
   ],
   "source": [
    "## Calculate the gradient of the softmax loss in the Softmax class.\n",
    "# For convenience, we'll write one function that computes the loss\n",
    "#   and gradient together, softmax.loss_and_grad(X, y)\n",
    "# You may copy and paste your loss code from softmax.loss() here, and then\n",
    "#   use the appropriate intermediate values to calculate the gradient.\n",
    "\n",
    "loss, grad = softmax.loss_and_grad(X_dev,y_dev)\n",
    "\n",
    "# Compare your gradient to a gradient check we wrote. \n",
    "# You should see relative gradient errors on the order of 1e-07 or less if you implemented the gradient correctly.\n",
    "softmax.grad_check_sparse(X_dev, y_dev, grad)"
   ]
  },
  {
   "cell_type": "markdown",
   "metadata": {},
   "source": [
    "## A vectorized version of Softmax\n",
    "\n",
    "To speed things up, we will vectorize the loss and gradient calculations.  This will be helpful for stochastic gradient descent."
   ]
  },
  {
   "cell_type": "code",
   "execution_count": 183,
   "metadata": {},
   "outputs": [],
   "source": [
    "import time"
   ]
  },
  {
   "cell_type": "code",
   "execution_count": 184,
   "metadata": {},
   "outputs": [
    {
     "name": "stdout",
     "output_type": "stream",
     "text": [
      "Normal loss / grad_norm: 2.316697106110442 / 321.1638255742149 computed in 0.08814406394958496s\n",
      "Vectorized loss / grad: 2.316697106110443 / 321.1638255742149 computed in 0.008970022201538086s\n",
      "difference in loss / grad: -8.881784197001252e-16 /2.1609419937285767e-13 \n"
     ]
    }
   ],
   "source": [
    "## Implement softmax.fast_loss_and_grad which calculates the loss and gradient\n",
    "#    WITHOUT using any for loops.  \n",
    "\n",
    "# Standard loss and gradient\n",
    "tic = time.time()\n",
    "loss, grad = softmax.loss_and_grad(X_dev, y_dev)\n",
    "toc = time.time()\n",
    "print('Normal loss / grad_norm: {} / {} computed in {}s'.format(loss, np.linalg.norm(grad, 'fro'), toc - tic))\n",
    "\n",
    "tic = time.time()\n",
    "loss_vectorized, grad_vectorized = softmax.fast_loss_and_grad(X_dev, y_dev)\n",
    "toc = time.time()\n",
    "print('Vectorized loss / grad: {} / {} computed in {}s'.format(loss_vectorized, np.linalg.norm(grad_vectorized, 'fro'), toc - tic))\n",
    "\n",
    "# The losses should match but your vectorized implementation should be much faster.\n",
    "print('difference in loss / grad: {} /{} '.format(loss - loss_vectorized, np.linalg.norm(grad - grad_vectorized)))\n",
    "\n",
    "# You should notice a speedup with the same output."
   ]
  },
  {
   "cell_type": "markdown",
   "metadata": {},
   "source": [
    "## Stochastic gradient descent\n",
    "\n",
    "We now implement stochastic gradient descent.  This uses the same principles of gradient descent we discussed in class, however, it calculates the gradient by only using examples from a subset of the training set (so each gradient calculation is faster)."
   ]
  },
  {
   "cell_type": "markdown",
   "metadata": {},
   "source": [
    "## Question:\n",
    "\n",
    "How should the softmax gradient descent training step differ from the svm training step, if at all?"
   ]
  },
  {
   "cell_type": "markdown",
   "metadata": {},
   "source": [
    "## Answer:\n",
    "\n",
    "The training steps for softmax gradient descent and svm are the same, but the cost functions differ. The SGD steps are the exact same."
   ]
  },
  {
   "cell_type": "code",
   "execution_count": 185,
   "metadata": {
    "scrolled": false
   },
   "outputs": [
    {
     "name": "stdout",
     "output_type": "stream",
     "text": [
      "iteration 0 / 1500: loss 2.3365926606637544\n",
      "iteration 100 / 1500: loss 2.0557222613850827\n",
      "iteration 200 / 1500: loss 2.0357745120662813\n",
      "iteration 300 / 1500: loss 1.9813348165609888\n",
      "iteration 400 / 1500: loss 1.9583142443981612\n",
      "iteration 500 / 1500: loss 1.8622653073541355\n",
      "iteration 600 / 1500: loss 1.8532611454359382\n",
      "iteration 700 / 1500: loss 1.8353062223725827\n",
      "iteration 800 / 1500: loss 1.8293892468827635\n",
      "iteration 900 / 1500: loss 1.899215853035748\n",
      "iteration 1000 / 1500: loss 1.97835035402523\n",
      "iteration 1100 / 1500: loss 1.8470797913532633\n",
      "iteration 1200 / 1500: loss 1.8411450268664082\n",
      "iteration 1300 / 1500: loss 1.7910402495792102\n",
      "iteration 1400 / 1500: loss 1.8705803029382257\n",
      "That took 5.789475917816162s\n"
     ]
    },
    {
     "data": {
      "image/png": "[encoded data removed]",
      "text/plain": [
       "<matplotlib.figure.Figure at 0x10bb5dba8>"
      ]
     },
     "metadata": {},
     "output_type": "display_data"
    }
   ],
   "source": [
    "# Implement softmax.train() by filling in the code to extract a batch of data\n",
    "# and perform the gradient step.\n",
    "import time\n",
    "\n",
    "\n",
    "tic = time.time()\n",
    "loss_hist = softmax.train(X_train, y_train, learning_rate=1e-7,\n",
    "                      num_iters=1500, verbose=True)\n",
    "toc = time.time()\n",
    "print('That took {}s'.format(toc - tic))\n",
    "\n",
    "plt.plot(loss_hist)\n",
    "plt.xlabel('Iteration number')\n",
    "plt.ylabel('Loss value')\n",
    "plt.show()"
   ]
  },
  {
   "cell_type": "markdown",
   "metadata": {},
   "source": [
    "### Evaluate the performance of the trained softmax classifier on the validation data."
   ]
  },
  {
   "cell_type": "code",
   "execution_count": 186,
   "metadata": {},
   "outputs": [
    {
     "name": "stdout",
     "output_type": "stream",
     "text": [
      "training accuracy: 0.3811428571428571\n",
      "validation accuracy: 0.398\n"
     ]
    }
   ],
   "source": [
    "## Implement softmax.predict() and use it to compute the training and testing error.\n",
    "\n",
    "y_train_pred = softmax.predict(X_train)\n",
    "print('training accuracy: {}'.format(np.mean(np.equal(y_train,y_train_pred), )))\n",
    "y_val_pred = softmax.predict(X_val)\n",
    "print('validation accuracy: {}'.format(np.mean(np.equal(y_val, y_val_pred)), ))"
   ]
  },
  {
   "cell_type": "markdown",
   "metadata": {},
   "source": [
    "## Optimize the softmax classifier\n",
    "\n",
    "You may copy and paste your optimization code from the SVM here."
   ]
  },
  {
   "cell_type": "code",
   "execution_count": 187,
   "metadata": {},
   "outputs": [
    {
     "data": {
      "text/plain": [
       "2.2204460492503131e-16"
      ]
     },
     "execution_count": 187,
     "metadata": {},
     "output_type": "execute_result"
    }
   ],
   "source": [
    "np.finfo(float).eps"
   ]
  },
  {
   "cell_type": "code",
   "execution_count": 188,
   "metadata": {
    "scrolled": false
   },
   "outputs": [],
   "source": [
    "# ================================================================ #\n",
    "# YOUR CODE HERE:\n",
    "#   Train the Softmax classifier with different learning rates and \n",
    "#     evaluate on the validation data.\n",
    "#   Report:\n",
    "#     - The best learning rate of the ones you tested.  \n",
    "#     - The best validation accuracy corresponding to the best validation error.\n",
    "#\n",
    "#   Select the SVM that achieved the best validation error and report\n",
    "#     its error rate on the test set.\n",
    "# ================================================================ #\n",
    "def sweep_lr(num_iters):\n",
    "    learning_rates = [1e-6, 1e-5, 1e-4, 1e-3, 1e-2, 1e-1, 1e0, 1e1, 1e2, 1e3, \n",
    "                     1e4, 1e5, 1e6]\n",
    "\n",
    "    results = {}\n",
    "    for lr in learning_rates:\n",
    "        np.random.seed(1)\n",
    "\n",
    "        num_classes = len(np.unique(y_train))\n",
    "        num_features = X_train.shape[1]\n",
    "\n",
    "        softmax = Softmax(dims=[num_classes, num_features])\n",
    "\n",
    "        loss_hist = softmax.train(X_train, y_train, learning_rate=lr,\n",
    "                          num_iters=num_iters, verbose=False)\n",
    "\n",
    "        y_val_pred = softmax.predict(X_val)\n",
    "        val_accuracy = np.mean(np.equal(y_val, y_val_pred))\n",
    "        results[lr] = val_accuracy \n",
    "\n",
    "    return results\n",
    "\n",
    "\n",
    "# ================================================================ #\n",
    "# END YOUR CODE HERE\n",
    "# ================================================================ #\n"
   ]
  },
  {
   "cell_type": "markdown",
   "metadata": {},
   "source": [
    "For max_iters=1500, the best learning rate in the set ranging from 1e-6 to 1e6 by orders of magnitude is 1e-6. The associated accuracy is 0.415"
   ]
  },
  {
   "cell_type": "code",
   "execution_count": 189,
   "metadata": {
    "scrolled": false
   },
   "outputs": [
    {
     "name": "stdout",
     "output_type": "stream",
     "text": [
      "{1e-06: 0.41499999999999998, 1e-05: 0.315, 0.0001: 0.28399999999999997, 0.001: 0.086999999999999994, 0.01: 0.086999999999999994, 0.1: 0.086999999999999994, 1.0: 0.086999999999999994, 10.0: 0.086999999999999994, 100.0: 0.086999999999999994, 1000.0: 0.086999999999999994, 10000.0: 0.086999999999999994, 100000.0: 0.086999999999999994, 1000000.0: 0.086999999999999994}\n",
      "Best learning rate is:  1e-06\n",
      "Accuracy is:  0.415\n"
     ]
    }
   ],
   "source": [
    "results = sweep_lr(num_iters=1500)\n",
    "max_acc = 0\n",
    "best_lr = -1\n",
    "for key, value in results.items():\n",
    "    if(value > max_acc):\n",
    "        max_acc = value\n",
    "        best_lr = key\n",
    "\n",
    "print(results)\n",
    "print(\"Best learning rate is: \", best_lr)\n",
    "print(\"Accuracy is: \", max_acc )"
   ]
  }
 ],
 "metadata": {
  "kernelspec": {
   "display_name": "Python 3",
   "language": "python",
   "name": "python3"
  },
  "language_info": {
   "codemirror_mode": {
    "name": "ipython",
    "version": 3
   },
   "file_extension": ".py",
   "mimetype": "text/x-python",
   "name": "python",
   "nbconvert_exporter": "python",
   "pygments_lexer": "ipython3",
   "version": "3.6.3"
  }
 },
 "nbformat": 4,
 "nbformat_minor": 2
}
